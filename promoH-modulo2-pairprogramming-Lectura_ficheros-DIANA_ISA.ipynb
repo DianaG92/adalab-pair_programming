{
 "cells": [
  {
   "cell_type": "markdown",
   "metadata": {},
   "source": [
    "## Pair programming Lectura de ficheros"
   ]
  },
  {
   "cell_type": "markdown",
   "metadata": {},
   "source": [
    "1. Hacer las importaciones necesarias para abrir un archivo de tipo \"csv\" en Pandas."
   ]
  },
  {
   "cell_type": "markdown",
   "metadata": {},
   "source": [
    "2. Abrir el archivo, creando un Dataframe. Aseguraros de que no incluye la columna \"Unnamed: 0\"."
   ]
  },
  {
   "cell_type": "markdown",
   "metadata": {},
   "source": [
    "3. Guardar el Dataframe en formato Excel y después crear un Dataframe con el Excel. ¿EL Dataframe es similar al que teníais antes?"
   ]
  },
  {
   "cell_type": "markdown",
   "metadata": {},
   "source": [
    "4. Crear una carpeta llamada Files y guardar el mismo archivo en esa carpeta en formato csv."
   ]
  },
  {
   "cell_type": "markdown",
   "metadata": {},
   "source": [
    "5. Copia el archivo personal.json en la carpeta Files."
   ]
  },
  {
   "cell_type": "markdown",
   "metadata": {},
   "source": [
    "6. Abre el json y haz las modificaciones necesarias para poder abrirlo correctamente en Pandas."
   ]
  },
  {
   "cell_type": "markdown",
   "metadata": {},
   "source": [
    "7. Guardar el json modifiado y abrirlo en Pandas para que tenga formato de tabla."
   ]
  }
 ],
 "metadata": {
  "language_info": {
   "name": "python"
  }
 },
 "nbformat": 4,
 "nbformat_minor": 2
}
