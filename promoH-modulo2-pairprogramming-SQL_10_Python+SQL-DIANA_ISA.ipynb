{
 "cells": [
  {
   "cell_type": "markdown",
   "metadata": {},
   "source": [
    "## Pair Programming Python + SQL"
   ]
  },
  {
   "cell_type": "markdown",
   "metadata": {},
   "source": [
    "1. Importar las librerías necesarias para crear la conexión y trbajar con Pandas."
   ]
  },
  {
   "cell_type": "code",
   "execution_count": 24,
   "metadata": {},
   "outputs": [
    {
     "name": "stdout",
     "output_type": "stream",
     "text": [
      "Requirement already satisfied: mysql-connector in /home/admin_diana/anaconda3/lib/python3.9/site-packages (2.2.9)\n",
      "Requirement already satisfied: mysql-connector-python in /home/admin_diana/anaconda3/lib/python3.9/site-packages (8.4.0)\n"
     ]
    }
   ],
   "source": [
    "!pip install mysql-connector\n",
    "\n",
    "!pip install mysql-connector-python"
   ]
  },
  {
   "cell_type": "code",
   "execution_count": 25,
   "metadata": {},
   "outputs": [],
   "source": [
    "import mysql.connector\n",
    "from mysql.connector import errorcode\n",
    "\n",
    "import pandas as pd\n",
    "import numpy as np"
   ]
  },
  {
   "cell_type": "markdown",
   "metadata": {},
   "source": [
    "2. Crear la conexión a la base de datos Northwind que devuelva un mensaje de error si algo no ocurre cómo debería."
   ]
  },
  {
   "cell_type": "code",
   "execution_count": 27,
   "metadata": {},
   "outputs": [
    {
     "name": "stdout",
     "output_type": "stream",
     "text": [
      "Conexión establecida correctamente.\n"
     ]
    }
   ],
   "source": [
    "try:\n",
    "    conexion = mysql.connector.connect(\n",
    "        user = 'root',\n",
    "        host = '127.0.0.1', \n",
    "        password = 'AlumnaAdalab',\n",
    "        database = 'northwind'\n",
    "    )\n",
    "    print(\"Conexión establecida correctamente.\")\n",
    "    \n",
    "except mysql.connector.Error as err:\n",
    "  if err.errno == errorcode.ER_ACCESS_DENIED_ERROR:\n",
    "    print(\"Algo fue mal con tu user name o password\")\n",
    "  elif err.errno == errorcode.ER_BAD_DB_ERROR:\n",
    "    print(\"La database no existe\")\n",
    "  else:\n",
    "    print(err)"
   ]
  },
  {
   "cell_type": "markdown",
   "metadata": {},
   "source": [
    "3. Usando \"information_schema\", extraer los nombres de las columnas de la tabla \"customers\" de la BBDD \"northwind\"."
   ]
  },
  {
   "cell_type": "code",
   "execution_count": null,
   "metadata": {},
   "outputs": [],
   "source": [
    "mycursor = conexion.cursor()\n",
    "\n",
    "##query = \"SELECT column_name FROM information_schema.columns WHERE table_schema = 'northwind' AND table_name = 'customers'\"\n",
    "\n",
    "query = \"SELECT * FROM information_schema.columns WHERE table_schema = 'northwind' AND table_name = 'customers'\"\n",
    "\n",
    "mycursor.execute(query)\n",
    "\n",
    "resultados = [fila[0] for fila in mycursor.fetchall()]\n",
    "\n",
    "##resultados = mycursor.fetchall()\n",
    "\n",
    "print(resultados)"
   ]
  },
  {
   "cell_type": "markdown",
   "metadata": {},
   "source": [
    "4. Seleccionar todo de la tabla \"customers\" donde \"country\" sea \"USA\" o \"Germany\". Almacenar los resultados en una variable."
   ]
  },
  {
   "cell_type": "code",
   "execution_count": null,
   "metadata": {},
   "outputs": [],
   "source": [
    "mycursor = conexion.cursor()\n",
    "\n",
    "query = \"SELECT * FROM customers WHERE country IN ('USA', 'Germany')\"\n",
    "\n",
    "mycursor.excute(query)\n",
    "\n",
    "resultados = mycursor.fetchall()\n",
    "\n",
    "print(resultados)"
   ]
  },
  {
   "cell_type": "markdown",
   "metadata": {},
   "source": [
    "5. Convertir los resultados del ejercicio anterior en un Dataframe (no od olvidéis de poner el nombre a las columnas en el orden correcto)."
   ]
  },
  {
   "cell_type": "markdown",
   "metadata": {},
   "source": [
    "6. Muestrar las 10 primeras filas del Dataframe y las 10 últimas."
   ]
  },
  {
   "cell_type": "markdown",
   "metadata": {},
   "source": [
    "7. Mostrar 5 filas aleatorias del Dataframe."
   ]
  },
  {
   "cell_type": "markdown",
   "metadata": {},
   "source": [
    "8. ¿Hay nulos en el Dataframe? El resultado debe verse para cada una de las columnas."
   ]
  },
  {
   "cell_type": "markdown",
   "metadata": {},
   "source": [
    "9. Mostrar los principales estadísticos."
   ]
  },
  {
   "cell_type": "markdown",
   "metadata": {},
   "source": [
    "10. Mostrar el nombre de las columnas del Dataframe."
   ]
  }
 ],
 "metadata": {
  "kernelspec": {
   "display_name": "base",
   "language": "python",
   "name": "python3"
  },
  "language_info": {
   "codemirror_mode": {
    "name": "ipython",
    "version": 3
   },
   "file_extension": ".py",
   "mimetype": "text/x-python",
   "name": "python",
   "nbconvert_exporter": "python",
   "pygments_lexer": "ipython3",
   "version": "3.9.7"
  }
 },
 "nbformat": 4,
 "nbformat_minor": 2
}
