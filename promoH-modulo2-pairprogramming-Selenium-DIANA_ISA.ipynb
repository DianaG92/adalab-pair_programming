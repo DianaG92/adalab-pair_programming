{
 "cells": [
  {
   "cell_type": "markdown",
   "metadata": {},
   "source": [
    "## Pair Programming Selenium"
   ]
  },
  {
   "cell_type": "markdown",
   "metadata": {},
   "source": [
    "Descripción:\n",
    "\n",
    "Acceso a la Página de La Casa del Libro: Utilizando Selenium, deberás automatizar el proceso de navegación hacia la página de libros de ficción en el sitio web de La Casa del Libro.\n",
    "\n",
    "Extracción de Datos de las 5 Primeras Páginas: Una vez en la página de libros de ficción, debes programar su script para que recorra los 5 primeros libros de libros, extrayendo los siguientes datos de cada libro:\n",
    "\n",
    "- Título del libro.\n",
    "\n",
    "- Autor(es) del libro.\n",
    "\n",
    "- Precio del libro.\n",
    "\n",
    "- Editorial del libro.\n",
    "\n",
    "- Idioma del libro.\n",
    "\n",
    "- Número de páginas del libro.\n",
    "\n",
    "Almacenamiento de Datos: Los datos extraídos deben almacenarse en un DataFrame."
   ]
  },
  {
   "cell_type": "code",
   "execution_count": 1,
   "metadata": {},
   "outputs": [],
   "source": [
    "import pandas as pd\n",
    "\n",
    "import requests\n",
    "\n",
    "from selenium import webdriver\n",
    "from webdriver_manager.chrome import ChromeDriverManager\n",
    "from selenium.webdriver.common.keys import Keys\n",
    "from selenium.webdriver.support.ui import Select\n",
    "\n",
    "from time import sleep\n",
    "\n",
    "pd.set_option(\"display.max_columns\", None)"
   ]
  },
  {
   "cell_type": "code",
   "execution_count": null,
   "metadata": {},
   "outputs": [],
   "source": [
    "driver = webdriver.Chrome()\n",
    "\n",
    "driver.get(\"https://www.casadellibro.com/\")\n",
    "\n",
    "sleep(2)\n",
    "\n",
    "driver.maximize_window()\n",
    "\n",
    "driver.find_element(\"css selector\", \"#onetrust-accept-btn-handler\").click()\n",
    "\n",
    "sleep(2)\n",
    "\n",
    "driver.find_element(\"link text\", \"Ficción\").click()\n",
    "\n",
    "sleep(3)\n",
    "\n",
    "diccionario_libros = {\"titulo\": [],\n",
    "                      \"autor\": [],\n",
    "                      \"precio\": [],\n",
    "                      \"editorial\": [],\n",
    "                      \"idioma\": [],\n",
    "                      \"paginas\": []\n",
    "                    }\n",
    "\n",
    "for i in range (1, 6):\n",
    "    driver.find_element\n",
    "    \n",
    "    \n",
    "    diccionario_libros[\"titulo\"].append(driver.find_element(\"xpath\", '//*[@id=\"main-content\"]/div[1]/div[2]/div[2]/div[1]/h1/span').text)\n",
    "    ##diccionario_libros[\"autores\"].append(diver.find_element(\"css selector\", f\"#app > div.v-application--wrap > main > div > div > div > div:nth-child(3) > div > div > div.col-md-5.order-lg-2.col-12.order-1 > div > div.text-h5.d-flex.flex-wrap.author.mb-2.justify-center.justify-sm-start > div > a > span:nth-child(1)\").text)\n",
    "    ##diccionario_libros[\"precio\"].append(diver.find_element(\"css selector\", f\"#app > div.v-application--wrap > main > div > div > div > div:nth-child(3) > div > div > div.border-left.col-md-4.col-12.order-3 > div > div:nth-child(3) > div.col.col-8 > strong\").text) \n",
    "    ##diccionario_libros[\"editorial\"].append(diver.find_element(\"css selector\", f\"#app > div.v-application--wrap > main > div > div > div > div:nth-child(7) > div > div > div.caracteristicas.mt-4.pt-4 > div:nth-child(3) > div\").text)   \n",
    "    ##diccionario_libros[\"idioma\"].append(diver.find_element(\"css selector\", f\"#app > div.v-application--wrap > main > div > div > div > div:nth-child(7) > div > div > div.caracteristicas.mt-4.pt-4 > div:nth-child(4) > div\").text)      \n",
    "    ##diccionario_libros[\"paginas\"].append(diver.find_element(\"css selector\", f\"#app > div.v-application--wrap > main > div > div > div > div:nth-child(7) > div > div > div.caracteristicas.mt-4.pt-4 > div:nth-child(1) > div\").text)                  \n",
    "\n",
    "diccionario_libros"
   ]
  },
  {
   "cell_type": "code",
   "execution_count": null,
   "metadata": {},
   "outputs": [],
   "source": [
    "#app > div.v-application--wrap > main > div > div > div > div:nth-child(4) > div > div > div:nth-child(2) > div > div.swiper > div:nth-child(1)\n",
    "#app > div.v-application--wrap > main > div > div > div > div:nth-child(4) > div > div > div:nth-child(2) > div > div.swiper > div:nth-child(2)"
   ]
  },
  {
   "cell_type": "code",
   "execution_count": null,
   "metadata": {},
   "outputs": [],
   "source": [
    "def extraer_datos_libro(libro_element):\n",
    "    titulo = libro_element.find_element(\"class_name:\" \"titulo\").text\n",
    "    autores = libro_element.find_element(\"class_name:\" \"autor\").text\n",
    "    precio = libro_element.find_element(\"class_name:\" \"precioWeb\").text\n",
    "    editorial = libro_element.find_element(\"class_name:\" \"editorial\").text\n",
    "    idioma = libro_element.find_element(\"class_name:\"\"idioma\").text\n",
    "    paginas = libro_element.find_element(\"class_name:\"\"paginas\").text\n",
    "    \n",
    "    return {\n",
    "        \"Título\": titulo,\n",
    "        \"Autor(es)\": autores,\n",
    "        \"Precio\": precio,\n",
    "        \"Editorial\": editorial,\n",
    "        \"Idioma\": idioma,\n",
    "        \"Número de páginas\": paginas"
   ]
  }
 ],
 "metadata": {
  "kernelspec": {
   "display_name": "Python 3",
   "language": "python",
   "name": "python3"
  },
  "language_info": {
   "codemirror_mode": {
    "name": "ipython",
    "version": 3
   },
   "file_extension": ".py",
   "mimetype": "text/x-python",
   "name": "python",
   "nbconvert_exporter": "python",
   "pygments_lexer": "ipython3",
   "version": "3.11.9"
  }
 },
 "nbformat": 4,
 "nbformat_minor": 2
}
