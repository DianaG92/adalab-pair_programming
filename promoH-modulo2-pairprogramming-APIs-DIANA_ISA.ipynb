{
 "cells": [
  {
   "cell_type": "markdown",
   "metadata": {},
   "source": [
    "## Pair Programming APIs"
   ]
  },
  {
   "cell_type": "markdown",
   "metadata": {},
   "source": [
    "1. Extracción de Datos a Nivel Nacional:\n",
    "\n",
    "- Extraer datos de generación de energía renovable y no renovable a nivel nacional desde el 1 de enero de 2011 hasta el 31 de diciembre de 2022. La información debe ser recopilada a nivel mensual.\n",
    "\n",
    "- Transformar los datos para incluir una columna nueva que identifique si la energía es renovable o no renovable.\n",
    "\n",
    "- Almacenar los datos en un DataFrame con la siguiente estructura."
   ]
  },
  {
   "cell_type": "code",
   "execution_count": null,
   "metadata": {},
   "outputs": [],
   "source": [
    "import pandas as pd\n",
    "import requests\n",
    "import re\n",
    "\n",
    "pd.set_option('display.max_columns', None)"
   ]
  },
  {
   "cell_type": "code",
   "execution_count": 18,
   "metadata": {},
   "outputs": [],
   "source": [
    "def llamar_api(url):\n",
    "    \n",
    "    llamada = requests.get(url)\n",
    "    \n",
    "    print(f\"La llamada a la API nos ha dado una respuesta de tipo: {llamada.status_code}\")\n",
    "    \n",
    "    if llamada.status_code != 200:\n",
    "        print(f\"El motivo por el que la llamada falló es {llamada.reason} {llamada.text}\")\n",
    "    else:\n",
    "        return llamada.json()  "
   ]
  },
  {
   "cell_type": "code",
   "execution_count": 19,
   "metadata": {},
   "outputs": [
    {
     "name": "stdout",
     "output_type": "stream",
     "text": [
      "La llamada a la API nos ha dado una respuesta de tipo: 200\n"
     ]
    }
   ],
   "source": [
    "url_energia = f\"https://apidatos.ree.es/es/datos/generacion/evolucion-renovable-no-renovable?start_date=2021-01-01T00:00&end_date=2022-12-31T23:59&time_trunc=month\"\n",
    "\n",
    "resultados_energia = llamar_api(url_energia)"
   ]
  },
  {
   "cell_type": "code",
   "execution_count": null,
   "metadata": {},
   "outputs": [],
   "source": [
    "resultados_energia"
   ]
  },
  {
   "cell_type": "code",
   "execution_count": null,
   "metadata": {},
   "outputs": [],
   "source": [
    "import pandas as pd\n",
    "\n",
    "if resultados_energia:\n",
    "    diccionario_energia = {\"tipo_energia\": [], \"tipo_generacion\": [], \"fecha\": [], \"valor\": []}\n",
    "    \n",
    "    for energia in resultados_energia[\"data\"]:\n",
    "        diccionario_energia[\"tipo_energia\"].append(energia[\"attributes\"][\"description\"])\n",
    "        diccionario_energia[\"tipo_generacion\"].append(energia[\"type\"])\n",
    "        diccionario_energia[\"fecha\"].append(energia[\"attributes\"][\"datetime\"])\n",
    "        diccionario_energia[\"valor\"].append(energia[\"attributes\"][\"value\"])\n",
    "        \n",
    "    df_energia = pd.DataFrame(diccionario_energia)\n",
    "    \n",
    "    print(df_energia.head())\n",
    "    \n",
    "else:\n",
    "    print(\"No se pudo obtener la información solicitada.\")"
   ]
  },
  {
   "cell_type": "markdown",
   "metadata": {},
   "source": [
    "AÑADO ESTA PARTE NUEVA AL CÓDIGO\n",
    "\n",
    "- Falta modificar el tipo de energía"
   ]
  },
  {
   "cell_type": "code",
   "execution_count": 45,
   "metadata": {},
   "outputs": [
    {
     "data": {
      "text/html": [
       "<div>\n",
       "<style scoped>\n",
       "    .dataframe tbody tr th:only-of-type {\n",
       "        vertical-align: middle;\n",
       "    }\n",
       "\n",
       "    .dataframe tbody tr th {\n",
       "        vertical-align: top;\n",
       "    }\n",
       "\n",
       "    .dataframe thead th {\n",
       "        text-align: right;\n",
       "    }\n",
       "</style>\n",
       "<table border=\"1\" class=\"dataframe\">\n",
       "  <thead>\n",
       "    <tr style=\"text-align: right;\">\n",
       "      <th></th>\n",
       "      <th>Tipo de Energía</th>\n",
       "      <th>Tipo de Generación</th>\n",
       "      <th>Fecha</th>\n",
       "      <th>Valor</th>\n",
       "    </tr>\n",
       "  </thead>\n",
       "  <tbody>\n",
       "    <tr>\n",
       "      <th>0</th>\n",
       "      <td>Renovable</td>\n",
       "      <td>Renovable</td>\n",
       "      <td>2021-01-01T00:00:00.000+01:00</td>\n",
       "      <td>1.256107e+07</td>\n",
       "    </tr>\n",
       "    <tr>\n",
       "      <th>1</th>\n",
       "      <td>Renovable</td>\n",
       "      <td>Renovable</td>\n",
       "      <td>2021-02-01T00:00:00.000+01:00</td>\n",
       "      <td>1.235994e+07</td>\n",
       "    </tr>\n",
       "    <tr>\n",
       "      <th>2</th>\n",
       "      <td>Renovable</td>\n",
       "      <td>Renovable</td>\n",
       "      <td>2021-03-01T00:00:00.000+01:00</td>\n",
       "      <td>1.179999e+07</td>\n",
       "    </tr>\n",
       "    <tr>\n",
       "      <th>3</th>\n",
       "      <td>Renovable</td>\n",
       "      <td>Renovable</td>\n",
       "      <td>2021-04-01T00:00:00.000+02:00</td>\n",
       "      <td>9.240647e+06</td>\n",
       "    </tr>\n",
       "    <tr>\n",
       "      <th>4</th>\n",
       "      <td>Renovable</td>\n",
       "      <td>Renovable</td>\n",
       "      <td>2021-05-01T00:00:00.000+02:00</td>\n",
       "      <td>1.043336e+07</td>\n",
       "    </tr>\n",
       "  </tbody>\n",
       "</table>\n",
       "</div>"
      ],
      "text/plain": [
       "  Tipo de Energía Tipo de Generación                          Fecha  \\\n",
       "0       Renovable          Renovable  2021-01-01T00:00:00.000+01:00   \n",
       "1       Renovable          Renovable  2021-02-01T00:00:00.000+01:00   \n",
       "2       Renovable          Renovable  2021-03-01T00:00:00.000+01:00   \n",
       "3       Renovable          Renovable  2021-04-01T00:00:00.000+02:00   \n",
       "4       Renovable          Renovable  2021-05-01T00:00:00.000+02:00   \n",
       "\n",
       "          Valor  \n",
       "0  1.256107e+07  \n",
       "1  1.235994e+07  \n",
       "2  1.179999e+07  \n",
       "3  9.240647e+06  \n",
       "4  1.043336e+07  "
      ]
     },
     "execution_count": 45,
     "metadata": {},
     "output_type": "execute_result"
    }
   ],
   "source": [
    "import pandas as pd\n",
    "\n",
    "tipos_energia = []\n",
    "tipos_generacion = []\n",
    "fechas = []\n",
    "valores = []\n",
    "\n",
    "for item in resultados_energia['included']:\n",
    "    tipo_energia = item['attributes']['title']\n",
    "    tipo_generacion = item['type']\n",
    "    \n",
    "    for value in item['attributes']['values']:\n",
    "        fecha = value['datetime']\n",
    "        valor = value['value']\n",
    "        \n",
    "        tipos_energia.append(tipo_energia)\n",
    "        tipos_generacion.append(tipo_generacion)\n",
    "        fechas.append(fecha)\n",
    "        valores.append(valor)\n",
    "\n",
    "df_energia = pd.DataFrame({\n",
    "    'Tipo de Energía': tipos_energia,\n",
    "    'Tipo de Generación': tipos_generacion,\n",
    "    'Fecha': fechas,\n",
    "    'Valor': valores\n",
    "})\n",
    "\n",
    "df_energia.head(5)"
   ]
  },
  {
   "cell_type": "markdown",
   "metadata": {},
   "source": [
    "2. Extracción de Datos por Comunidad Autónoma:\n",
    "\n",
    "- Extraer datos de generación de energía renovable y no renovable por Comunidad Autónoma.\n",
    "\n",
    "- Utilizar el diccionario cod_comunidades para obtener los códigos de cada comunidad autónoma.\n",
    "\n",
    "- Transformar los datos para incluir una columna que especifique la comunidad autónoma y su identificador.\n",
    "\n",
    "- Almacenar los datos en un DataFrame con la siguiente estructura."
   ]
  }
 ],
 "metadata": {
  "kernelspec": {
   "display_name": "base",
   "language": "python",
   "name": "python3"
  },
  "language_info": {
   "codemirror_mode": {
    "name": "ipython",
    "version": 3
   },
   "file_extension": ".py",
   "mimetype": "text/x-python",
   "name": "python",
   "nbconvert_exporter": "python",
   "pygments_lexer": "ipython3",
   "version": "3.9.7"
  }
 },
 "nbformat": 4,
 "nbformat_minor": 2
}
