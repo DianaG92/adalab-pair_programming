{
 "cells": [
  {
   "cell_type": "markdown",
   "metadata": {},
   "source": [
    "## Pair Programming Beautiful Soup"
   ]
  },
  {
   "cell_type": "markdown",
   "metadata": {},
   "source": [
    "Enunciado: Escribe una función llamada scrape_coches_ocasion que acepta una URL como argumento y devuelve un DataFrame de pandas con información sobre coches de ocasión encontrados en la página web especificada. La función realizará las siguientes tareas:\n",
    "\n",
    "1. Realizará una solicitud HTTP GET a la siguiente url.\n",
    "\n",
    "2. Comprobará el código de estado de la respuesta. Si el código no es 200 (OK), imprimirá un mensaje de error y retornará None.\n",
    "\n",
    "3. Extraerá los nombres de los coches, los precios rebajados, los precios originales y la información de los kilómetros recorridos de la página.\n",
    "\n",
    "4. Organizará los datos extraídos en un DataFrame de pandas con las siguientes columnas:\n",
    "\n",
    "- \"coche\": Nombres de los coches.\n",
    "\n",
    "- \"precio_rebajado\": Precios rebajados.\n",
    "\n",
    "- \"precio_original\": Precios originales.\n",
    "\n",
    "- \"km\": Kilómetros recorridos.\n",
    "\n",
    "5. Retornará el DataFrame resultante.\n",
    "\n",
    "6. Una vez extraida toda la información deberéis almacenar toda la información en un DataFrame."
   ]
  }
 ],
 "metadata": {
  "language_info": {
   "name": "python"
  }
 },
 "nbformat": 4,
 "nbformat_minor": 2
}
